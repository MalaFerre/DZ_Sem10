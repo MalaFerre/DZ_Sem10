{
  "nbformat": 4,
  "nbformat_minor": 0,
  "metadata": {
    "colab": {
      "provenance": [],
      "authorship_tag": "ABX9TyMgPJW7wWGwbl+me7YuQsrk",
      "include_colab_link": true
    },
    "kernelspec": {
      "name": "python3",
      "display_name": "Python 3"
    },
    "language_info": {
      "name": "python"
    }
  },
  "cells": [
    {
      "cell_type": "markdown",
      "metadata": {
        "id": "view-in-github",
        "colab_type": "text"
      },
      "source": [
        "<a href=\"https://colab.research.google.com/github/MalaFerre/DZ_Sem10/blob/main/Untitled1.ipynb\" target=\"_parent\"><img src=\"https://colab.research.google.com/assets/colab-badge.svg\" alt=\"Open In Colab\"/></a>"
      ]
    },
    {
      "cell_type": "code",
      "execution_count": null,
      "metadata": {
        "id": "uWiYCN7OZK68"
      },
      "outputs": [],
      "source": [
        "import pandas as pd \n",
        "import numpy as np \n",
        "import random\n",
        " \n",
        "lst = ['robot'] * 10\n",
        "lst += ['human'] * 10\n",
        "random.shuffle(lst)\n",
        "data = pd.DataFrame({'whoAmI': lst})\n",
        "print(data)"
      ]
    },
    {
      "cell_type": "code",
      "source": [
        "data['tmp'] = 1\n",
        "data.set_index([data.index, 'whoAmI'], inplace=True)\n",
        "data = data.unstack(level=-1, fill_value = 0).astype(int)\n",
        "data.columns = data.columns.droplevel()\n",
        "data.columns.name = None\n",
        "print(data)"
      ],
      "metadata": {
        "id": "hNUMtZeGZZIq"
      },
      "execution_count": null,
      "outputs": []
    },
    {
      "cell_type": "markdown",
      "source": [
        "| В ячейке ниже представлен код генерирующий DataFrame, которая состоит всего из 1 столбца. Ваша задача перевести его в one hot вид. Сможете ли вы это сделать без get_dummies?\n"
      ],
      "metadata": {
        "id": "iY24eEbCZT7o"
      }
    }
  ]
}